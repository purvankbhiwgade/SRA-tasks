{
  "nbformat": 4,
  "nbformat_minor": 0,
  "metadata": {
    "colab": {
      "name": "edge_detection_ver_hori.ipynb",
      "provenance": [],
      "collapsed_sections": [],
      "authorship_tag": "ABX9TyPGuQsLT+V3ypyh2/54ZoOI",
      "include_colab_link": true
    },
    "kernelspec": {
      "name": "python3",
      "display_name": "Python 3"
    }
  },
  "cells": [
    {
      "cell_type": "markdown",
      "metadata": {
        "id": "view-in-github",
        "colab_type": "text"
      },
      "source": [
        "<a href=\"https://colab.research.google.com/github/purvankbhiwgade/SRA-tasks/blob/master/edgeDetect/edge_detection_ver_hori.ipynb\" target=\"_parent\"><img src=\"https://colab.research.google.com/assets/colab-badge.svg\" alt=\"Open In Colab\"/></a>"
      ]
    },
    {
      "cell_type": "code",
      "metadata": {
        "id": "ujE2RiPBC2e3",
        "colab_type": "code",
        "colab": {}
      },
      "source": [
        "import numpy as np\n",
        "import cv2\n",
        "from google.colab.patches import cv2_imshow"
      ],
      "execution_count": 12,
      "outputs": []
    },
    {
      "cell_type": "code",
      "metadata": {
        "id": "FPJAbzAaDiGM",
        "colab_type": "code",
        "colab": {}
      },
      "source": [
        "!curl -o logo.png https://raw.githubusercontent.com/computationalcore/introduction-to-opencv/master/assets/noidea.jpg\n",
        "img = cv2.imread('logo.png', cv2.IMREAD_UNCHANGED)\n",
        "img = np.array(img)\n",
        "\n",
        "# result = np.zeros((img.shape[0]+4,img.shape[1]+4,img.shape[2]))\n",
        "result = np.zeros((img.shape[0]+2,img.shape[1]+2,img.shape[2]))\n",
        "\n",
        "# print(result.shape)\n",
        "# # print(result)\n",
        "# result[2 :-2,2:-2,:] = img\n",
        "result[1 :-1,1:-1,:] = img\n",
        "# cv2_imshow(result)\n",
        "# print(result.dtype)\n",
        "\n",
        "# print(result[4][4]*2)\n",
        "# # [189. 145.  84.]"
      ],
      "execution_count": null,
      "outputs": []
    },
    {
      "cell_type": "code",
      "metadata": {
        "id": "Kp48tLZXDuqy",
        "colab_type": "code",
        "colab": {}
      },
      "source": [
        "vertical_sober = np.array([\n",
        "                           [-1,-2,-1],\n",
        "                           [0,0,0],\n",
        "                           [1,2,1]\n",
        "                          ])\n",
        "\n",
        "horizontal_sober = [[-1,0,1], \n",
        "                     [-2,0,2], \n",
        "                     [-1,0,1]]"
      ],
      "execution_count": null,
      "outputs": []
    },
    {
      "cell_type": "code",
      "metadata": {
        "id": "vaVyRvmoDzUu",
        "colab_type": "code",
        "colab": {}
      },
      "source": [
        "sharped = np.zeros(img.shape)\n",
        "\n",
        "def multiplier(kernel):\n",
        "  for i in range(img.shape[0]):\n",
        "    for j in range(img.shape[1]):\n",
        "      imp = result[i: i+3, j: j+3, 0]\n",
        "      \n",
        "      transformed_pixels = kernel*imp\n",
        "\n",
        "      transform_score = transformed_pixels.sum()/4\n",
        "\n",
        "      sharped[i,j] = [transform_score]*3\n",
        "      \n",
        "\n",
        "multiplier(vertical_sober)\n",
        "cv2_imshow(sharped)\n",
        "print('HI')\n",
        "multiplier(horizontal_sober)\n",
        "cv2_imshow(sharped)"
      ],
      "execution_count": null,
      "outputs": []
    }
  ]
}